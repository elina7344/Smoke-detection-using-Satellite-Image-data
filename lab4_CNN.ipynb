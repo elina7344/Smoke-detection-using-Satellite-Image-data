{
  "nbformat": 4,
  "nbformat_minor": 0,
  "metadata": {
    "colab": {
      "name": "lab4-CNN.ipynb",
      "provenance": []
    },
    "kernelspec": {
      "name": "python3",
      "display_name": "Python 3"
    },
    "language_info": {
      "name": "python"
    },
    "accelerator": "GPU"
  },
  "cells": [
    {
      "cell_type": "code",
      "execution_count": null,
      "metadata": {
        "colab": {
          "base_uri": "https://localhost:8080/"
        },
        "id": "FqX4He2y4Hrp",
        "outputId": "dba88fa0-7fae-4bc3-8acf-6e7c1de1239f"
      },
      "outputs": [
        {
          "output_type": "stream",
          "name": "stdout",
          "text": [
            "/content/drive/MyDrive/Colab Notebooks/ML4CV lab4\n"
          ]
        }
      ],
      "source": [
        "%cd /content/drive/MyDrive/Colab Notebooks/ML4CV lab4"
      ]
    },
    {
      "cell_type": "code",
      "source": [
        "from google.colab import drive\n",
        "drive.mount('/content/drive')"
      ],
      "metadata": {
        "colab": {
          "base_uri": "https://localhost:8080/"
        },
        "id": "Ls8nBPKw534a",
        "outputId": "88ac59eb-6937-4367-9430-1959a8198fac"
      },
      "execution_count": null,
      "outputs": [
        {
          "output_type": "stream",
          "name": "stdout",
          "text": [
            "Mounted at /content/drive\n"
          ]
        }
      ]
    },
    {
      "cell_type": "code",
      "source": [
        "!cp /content/drive/MyDrive/Colab Notebooks\\ML4CV lab4/satellite_data.zip ./"
      ],
      "metadata": {
        "colab": {
          "base_uri": "https://localhost:8080/"
        },
        "id": "IvnUNhJ-7Gd_",
        "outputId": "944257b3-4bae-496c-9f60-59376e114d67"
      },
      "execution_count": null,
      "outputs": [
        {
          "output_type": "stream",
          "name": "stdout",
          "text": [
            "cp: cannot stat '/content/drive/MyDrive/Colab': No such file or directory\n",
            "cp: cannot stat 'NotebooksML4CV': No such file or directory\n",
            "cp: cannot stat 'lab4/satellite_data.zip': No such file or directory\n"
          ]
        }
      ]
    },
    {
      "cell_type": "code",
      "source": [
        "!ls"
      ],
      "metadata": {
        "colab": {
          "base_uri": "https://localhost:8080/"
        },
        "id": "PACVDqNe7V1-",
        "outputId": "da79a76c-259c-4b97-858d-088a8ad1b266"
      },
      "execution_count": null,
      "outputs": [
        {
          "output_type": "stream",
          "name": "stdout",
          "text": [
            "lab4-CNN.ipynb\tsatellite_data.zip\n"
          ]
        }
      ]
    },
    {
      "cell_type": "code",
      "source": [
        "#!unzip satellite_data.zip"
      ],
      "metadata": {
        "colab": {
          "base_uri": "https://localhost:8080/"
        },
        "id": "kpDmmbkX6ZWz",
        "outputId": "8a7de724-7081-4b21-91be-80687cbeae23"
      },
      "execution_count": null,
      "outputs": [
        {
          "output_type": "stream",
          "name": "stdout",
          "text": [
            "Archive:  satellite_data.zip\n",
            "   creating: satellite_data/\n",
            "   creating: satellite_data/non-smoke/\n",
            "  inflating: satellite_data/non-smoke/010.png  \n",
            "  inflating: satellite_data/non-smoke/0107.png  \n",
            "  inflating: satellite_data/non-smoke/0101.png  \n",
            "  inflating: satellite_data/non-smoke/0103.png  \n",
            "  inflating: satellite_data/non-smoke/0106.png  \n",
            "  inflating: satellite_data/non-smoke/0102.png  \n",
            "  inflating: satellite_data/non-smoke/0100.png  \n",
            "  inflating: satellite_data/non-smoke/0104.png  \n",
            "  inflating: satellite_data/non-smoke/0110.png  \n",
            "  inflating: satellite_data/non-smoke/0113.png  \n",
            "  inflating: satellite_data/non-smoke/0109.png  \n",
            "  inflating: satellite_data/non-smoke/0111.png  \n",
            "  inflating: satellite_data/non-smoke/0115.png  \n",
            "  inflating: satellite_data/non-smoke/0114.png  \n",
            "  inflating: satellite_data/non-smoke/0112.png  \n",
            "  inflating: satellite_data/non-smoke/0120.png  \n",
            "  inflating: satellite_data/non-smoke/0118.png  \n",
            "  inflating: satellite_data/non-smoke/0117.png  \n",
            "  inflating: satellite_data/non-smoke/012.png  \n",
            "  inflating: satellite_data/non-smoke/0116.png  \n",
            "  inflating: satellite_data/non-smoke/0119.png  \n",
            "  inflating: satellite_data/non-smoke/0125.png  \n",
            "  inflating: satellite_data/non-smoke/013.png  \n",
            "  inflating: satellite_data/non-smoke/0122.png  \n",
            "  inflating: satellite_data/non-smoke/0127.png  \n",
            "  inflating: satellite_data/non-smoke/0128.png  \n",
            "  inflating: satellite_data/non-smoke/0123.png  \n",
            "  inflating: satellite_data/non-smoke/0132.png  \n",
            "  inflating: satellite_data/non-smoke/0134.png  \n",
            "  inflating: satellite_data/non-smoke/0130.png  \n",
            "  inflating: satellite_data/non-smoke/0141.png  \n",
            "  inflating: satellite_data/non-smoke/0140.png  \n",
            "  inflating: satellite_data/non-smoke/0139.png  \n",
            "  inflating: satellite_data/non-smoke/0136.png  \n",
            "  inflating: satellite_data/non-smoke/0142.png  \n",
            "  inflating: satellite_data/non-smoke/0144.png  \n",
            "  inflating: satellite_data/non-smoke/0138.png  \n",
            "  inflating: satellite_data/non-smoke/0137.png  \n",
            "  inflating: satellite_data/non-smoke/0143.png  \n",
            "  inflating: satellite_data/non-smoke/0135.png  \n",
            "  inflating: satellite_data/non-smoke/014.png  \n",
            "  inflating: satellite_data/non-smoke/0153.png  \n",
            "  inflating: satellite_data/non-smoke/0157.png  \n",
            "  inflating: satellite_data/non-smoke/0148.png  \n",
            "  inflating: satellite_data/non-smoke/0145.png  \n",
            "  inflating: satellite_data/non-smoke/0149.png  \n",
            "  inflating: satellite_data/non-smoke/0150.png  \n",
            "  inflating: satellite_data/non-smoke/0156.png  \n",
            "  inflating: satellite_data/non-smoke/0158.png  \n",
            "  inflating: satellite_data/non-smoke/0155.png  \n",
            "  inflating: satellite_data/non-smoke/0154.png  \n",
            "  inflating: satellite_data/non-smoke/0147.png  \n",
            "  inflating: satellite_data/non-smoke/0151.png  \n",
            "  inflating: satellite_data/non-smoke/016.png  \n",
            "  inflating: satellite_data/non-smoke/0174.png  \n",
            "  inflating: satellite_data/non-smoke/0161.png  \n",
            "  inflating: satellite_data/non-smoke/0172.png  \n",
            "  inflating: satellite_data/non-smoke/0175.png  \n",
            "  inflating: satellite_data/non-smoke/0170.png  \n",
            "  inflating: satellite_data/non-smoke/0178.png  \n",
            "  inflating: satellite_data/non-smoke/0162.png  \n",
            "  inflating: satellite_data/non-smoke/0169.png  \n",
            "  inflating: satellite_data/non-smoke/0168.png  \n",
            "  inflating: satellite_data/non-smoke/017.png  \n",
            "  inflating: satellite_data/non-smoke/0164.png  \n",
            "  inflating: satellite_data/non-smoke/0166.png  \n",
            "  inflating: satellite_data/non-smoke/0176.png  \n",
            "  inflating: satellite_data/non-smoke/0165.png  \n",
            "  inflating: satellite_data/non-smoke/0179.png  \n",
            "  inflating: satellite_data/non-smoke/0180.png  \n",
            "  inflating: satellite_data/non-smoke/018.png  \n",
            "  inflating: satellite_data/non-smoke/0181.png  \n",
            "  inflating: satellite_data/non-smoke/0189.png  \n",
            "  inflating: satellite_data/non-smoke/0194.png  \n",
            "  inflating: satellite_data/non-smoke/0191.png  \n",
            "  inflating: satellite_data/non-smoke/0188.png  \n",
            "  inflating: satellite_data/non-smoke/019.png  \n",
            "  inflating: satellite_data/non-smoke/0182.png  \n",
            "  inflating: satellite_data/non-smoke/0186.png  \n",
            "  inflating: satellite_data/non-smoke/0190.png  \n",
            "  inflating: satellite_data/non-smoke/0185.png  \n",
            "  inflating: satellite_data/non-smoke/0199.png  \n",
            "  inflating: satellite_data/non-smoke/0204.png  \n",
            "  inflating: satellite_data/non-smoke/0195.png  \n",
            "  inflating: satellite_data/non-smoke/0198.png  \n",
            "  inflating: satellite_data/non-smoke/02.png  \n",
            "  inflating: satellite_data/non-smoke/020.png  \n",
            "  inflating: satellite_data/non-smoke/0201.png  \n",
            "  inflating: satellite_data/non-smoke/0200.png  \n",
            "  inflating: satellite_data/non-smoke/0205.png  \n",
            "  inflating: satellite_data/non-smoke/0206.png  \n",
            "  inflating: satellite_data/non-smoke/021.png  \n",
            "  inflating: satellite_data/non-smoke/0207.png  \n",
            "  inflating: satellite_data/non-smoke/0208.png  \n",
            "  inflating: satellite_data/non-smoke/024.png  \n",
            "  inflating: satellite_data/non-smoke/027.png  \n",
            "  inflating: satellite_data/non-smoke/022.png  \n",
            "  inflating: satellite_data/non-smoke/029.png  \n",
            "  inflating: satellite_data/non-smoke/03.png  \n",
            "  inflating: satellite_data/non-smoke/028.png  \n",
            "  inflating: satellite_data/non-smoke/030.png  \n",
            "  inflating: satellite_data/non-smoke/035.png  \n",
            "  inflating: satellite_data/non-smoke/031.png  \n",
            "  inflating: satellite_data/non-smoke/033.png  \n",
            "  inflating: satellite_data/non-smoke/034.png  \n",
            "  inflating: satellite_data/non-smoke/032.png  \n",
            "  inflating: satellite_data/non-smoke/037.png  \n",
            "  inflating: satellite_data/non-smoke/04.png  \n",
            "  inflating: satellite_data/non-smoke/046.png  \n",
            "  inflating: satellite_data/non-smoke/044.png  \n",
            "  inflating: satellite_data/non-smoke/045.png  \n",
            "  inflating: satellite_data/non-smoke/040.png  \n",
            "  inflating: satellite_data/non-smoke/041.png  \n",
            "  inflating: satellite_data/non-smoke/038.png  \n",
            "  inflating: satellite_data/non-smoke/036.png  \n",
            "  inflating: satellite_data/non-smoke/042.png  \n",
            "  inflating: satellite_data/non-smoke/048.png  \n",
            "  inflating: satellite_data/non-smoke/047.png  \n",
            "  inflating: satellite_data/non-smoke/050.png  \n",
            "  inflating: satellite_data/non-smoke/05.png  \n",
            "  inflating: satellite_data/non-smoke/049.png  \n",
            "  inflating: satellite_data/non-smoke/052.png  \n",
            "  inflating: satellite_data/non-smoke/054.png  \n",
            "  inflating: satellite_data/non-smoke/055.png  \n",
            "  inflating: satellite_data/non-smoke/058.png  \n",
            "  inflating: satellite_data/non-smoke/057.png  \n",
            "  inflating: satellite_data/non-smoke/06.png  \n",
            "  inflating: satellite_data/non-smoke/053.png  \n",
            "  inflating: satellite_data/non-smoke/056.png  \n",
            "  inflating: satellite_data/non-smoke/060.png  \n",
            "  inflating: satellite_data/non-smoke/061.png  \n",
            "  inflating: satellite_data/non-smoke/062.png  \n",
            "  inflating: satellite_data/non-smoke/065.png  \n",
            "  inflating: satellite_data/non-smoke/064.png  \n",
            "  inflating: satellite_data/non-smoke/066.png  \n",
            "  inflating: satellite_data/non-smoke/069.png  \n",
            "  inflating: satellite_data/non-smoke/067.png  \n",
            "  inflating: satellite_data/non-smoke/07.png  \n",
            "  inflating: satellite_data/non-smoke/063.png  \n",
            "  inflating: satellite_data/non-smoke/068.png  \n",
            "  inflating: satellite_data/non-smoke/073.png  \n",
            "  inflating: satellite_data/non-smoke/075.png  \n",
            "  inflating: satellite_data/non-smoke/071.png  \n",
            "  inflating: satellite_data/non-smoke/074.png  \n",
            "  inflating: satellite_data/non-smoke/08.png  \n",
            "  inflating: satellite_data/non-smoke/079.png  \n",
            "  inflating: satellite_data/non-smoke/077.png  \n",
            "  inflating: satellite_data/non-smoke/070.png  \n",
            "  inflating: satellite_data/non-smoke/072.png  \n",
            "  inflating: satellite_data/non-smoke/086.png  \n",
            "  inflating: satellite_data/non-smoke/094.png  \n",
            "  inflating: satellite_data/non-smoke/082.png  \n",
            "  inflating: satellite_data/non-smoke/080.png  \n",
            "  inflating: satellite_data/non-smoke/095.png  \n",
            "  inflating: satellite_data/non-smoke/088.png  \n",
            "  inflating: satellite_data/non-smoke/085.png  \n",
            "  inflating: satellite_data/non-smoke/090.png  \n",
            "  inflating: satellite_data/non-smoke/087.png  \n",
            "  inflating: satellite_data/non-smoke/096.png  \n",
            "  inflating: satellite_data/non-smoke/091.png  \n",
            "  inflating: satellite_data/non-smoke/084.png  \n",
            "  inflating: satellite_data/non-smoke/099.png  \n",
            "  inflating: satellite_data/non-smoke/097.png  \n",
            "  inflating: satellite_data/non-smoke/01.png  \n",
            "  inflating: satellite_data/non-smoke/0105.png  \n",
            "  inflating: satellite_data/non-smoke/0160.png  \n",
            "  inflating: satellite_data/non-smoke/0121.png  \n",
            "  inflating: satellite_data/non-smoke/0159.png  \n",
            "  inflating: satellite_data/non-smoke/0133.png  \n",
            "  inflating: satellite_data/non-smoke/0124.png  \n",
            "  inflating: satellite_data/non-smoke/0146.png  \n",
            "  inflating: satellite_data/non-smoke/0129.png  \n",
            "  inflating: satellite_data/non-smoke/0131.png  \n",
            "  inflating: satellite_data/non-smoke/0108.png  \n",
            "  inflating: satellite_data/non-smoke/0152.png  \n",
            "  inflating: satellite_data/non-smoke/0126.png  \n",
            "  inflating: satellite_data/non-smoke/0167.png  \n",
            "  inflating: satellite_data/non-smoke/0177.png  \n",
            "  inflating: satellite_data/non-smoke/0183.png  \n",
            "  inflating: satellite_data/non-smoke/0192.png  \n",
            "  inflating: satellite_data/non-smoke/0163.png  \n",
            "  inflating: satellite_data/non-smoke/0173.png  \n",
            "  inflating: satellite_data/non-smoke/0184.png  \n",
            "  inflating: satellite_data/non-smoke/0171.png  \n",
            "  inflating: satellite_data/non-smoke/025.png  \n",
            "  inflating: satellite_data/non-smoke/0203.png  \n",
            "  inflating: satellite_data/non-smoke/0193.png  \n",
            "  inflating: satellite_data/non-smoke/0197.png  \n",
            "  inflating: satellite_data/non-smoke/0202.png  \n",
            "  inflating: satellite_data/non-smoke/023.png  \n",
            "  inflating: satellite_data/non-smoke/039.png  \n",
            "  inflating: satellite_data/non-smoke/026.png  \n",
            "  inflating: satellite_data/non-smoke/051.png  \n",
            "  inflating: satellite_data/non-smoke/043.png  \n",
            "  inflating: satellite_data/non-smoke/059.png  \n",
            "  inflating: satellite_data/non-smoke/081.png  \n",
            "  inflating: satellite_data/non-smoke/089.png  \n",
            "  inflating: satellite_data/non-smoke/078.png  \n",
            "  inflating: satellite_data/non-smoke/083.png  \n",
            "  inflating: satellite_data/non-smoke/076.png  \n",
            "  inflating: satellite_data/non-smoke/092.png  \n",
            "  inflating: satellite_data/non-smoke/093.png  \n",
            "  inflating: satellite_data/non-smoke/098.png  \n",
            "   creating: satellite_data/smoke/\n",
            "  inflating: satellite_data/smoke/1191.jpeg  \n",
            "  inflating: satellite_data/smoke/1184.jpeg  \n",
            "  inflating: satellite_data/smoke/139.jpeg  \n",
            "  inflating: satellite_data/smoke/1140.jpeg  \n",
            "  inflating: satellite_data/smoke/1158.jpeg  \n",
            "  inflating: satellite_data/smoke/1196.jpeg  \n",
            "  inflating: satellite_data/smoke/1117.jpeg  \n",
            "  inflating: satellite_data/smoke/143.jpeg  \n",
            "  inflating: satellite_data/smoke/159.jpeg  \n",
            "  inflating: satellite_data/smoke/1203.jpeg  \n",
            "  inflating: satellite_data/smoke/1167.jpeg  \n",
            "  inflating: satellite_data/smoke/145.jpeg  \n",
            "  inflating: satellite_data/smoke/1143.jpeg  \n",
            "  inflating: satellite_data/smoke/151.jpeg  \n",
            "  inflating: satellite_data/smoke/1145.jpeg  \n",
            "  inflating: satellite_data/smoke/1189.jpeg  \n",
            "  inflating: satellite_data/smoke/154.jpeg  \n",
            "  inflating: satellite_data/smoke/1139.jpeg  \n",
            "  inflating: satellite_data/smoke/1185.jpeg  \n",
            "  inflating: satellite_data/smoke/168.jpeg  \n",
            "  inflating: satellite_data/smoke/142.jpeg  \n",
            "  inflating: satellite_data/smoke/14.jpeg  \n",
            "  inflating: satellite_data/smoke/136.jpeg  \n",
            "  inflating: satellite_data/smoke/160.jpeg  \n",
            "  inflating: satellite_data/smoke/1190.jpeg  \n",
            "  inflating: satellite_data/smoke/155.jpeg  \n",
            "  inflating: satellite_data/smoke/1160.jpeg  \n",
            "  inflating: satellite_data/smoke/152.jpeg  \n",
            "  inflating: satellite_data/smoke/1195.jpeg  \n",
            "  inflating: satellite_data/smoke/113.jpeg  \n",
            "  inflating: satellite_data/smoke/1200.jpeg  \n",
            "  inflating: satellite_data/smoke/146.jpeg  \n",
            "  inflating: satellite_data/smoke/1188.jpeg  \n",
            "  inflating: satellite_data/smoke/128.jpeg  \n",
            "  inflating: satellite_data/smoke/129.jpeg  \n",
            "  inflating: satellite_data/smoke/1121.jpeg  \n",
            "  inflating: satellite_data/smoke/165.jpeg  \n",
            "  inflating: satellite_data/smoke/133.jpeg  \n",
            "  inflating: satellite_data/smoke/117.jpeg  \n",
            "  inflating: satellite_data/smoke/1100.jpeg  \n",
            "  inflating: satellite_data/smoke/1148.jpeg  \n",
            "  inflating: satellite_data/smoke/1201.jpeg  \n",
            "  inflating: satellite_data/smoke/1142.jpeg  \n",
            "  inflating: satellite_data/smoke/1178.jpeg  \n",
            "  inflating: satellite_data/smoke/1106.jpeg  \n",
            "  inflating: satellite_data/smoke/1192.jpeg  \n",
            "  inflating: satellite_data/smoke/1108.jpeg  \n",
            "  inflating: satellite_data/smoke/1182.jpeg  \n",
            "  inflating: satellite_data/smoke/1118.jpeg  \n",
            "  inflating: satellite_data/smoke/144.jpeg  \n",
            "  inflating: satellite_data/smoke/116.jpeg  \n",
            "  inflating: satellite_data/smoke/16.jpeg  \n",
            "  inflating: satellite_data/smoke/1198.jpeg  \n",
            "  inflating: satellite_data/smoke/1152.jpeg  \n",
            "  inflating: satellite_data/smoke/1186.jpeg  \n",
            "  inflating: satellite_data/smoke/1104.jpeg  \n",
            "  inflating: satellite_data/smoke/1144.jpeg  \n",
            "  inflating: satellite_data/smoke/1126.jpeg  \n",
            "  inflating: satellite_data/smoke/1135.jpeg  \n",
            "  inflating: satellite_data/smoke/1128.jpeg  \n",
            "  inflating: satellite_data/smoke/1102.jpeg  \n",
            "  inflating: satellite_data/smoke/1183.jpeg  \n",
            "  inflating: satellite_data/smoke/140.jpeg  \n",
            "  inflating: satellite_data/smoke/156.jpeg  \n",
            "  inflating: satellite_data/smoke/1119.jpeg  \n",
            "  inflating: satellite_data/smoke/1146.jpeg  \n",
            "  inflating: satellite_data/smoke/1147.jpeg  \n",
            "  inflating: satellite_data/smoke/126.jpeg  \n",
            "  inflating: satellite_data/smoke/1194.jpeg  \n",
            "  inflating: satellite_data/smoke/1155.jpeg  \n",
            "  inflating: satellite_data/smoke/119.jpeg  \n",
            "  inflating: satellite_data/smoke/1149.jpeg  \n",
            "  inflating: satellite_data/smoke/1127.jpeg  \n",
            "  inflating: satellite_data/smoke/1175.jpeg  \n",
            "  inflating: satellite_data/smoke/1177.jpeg  \n",
            "  inflating: satellite_data/smoke/121.jpeg  \n",
            "  inflating: satellite_data/smoke/1.jpeg  \n",
            "  inflating: satellite_data/smoke/1123.jpeg  \n",
            "  inflating: satellite_data/smoke/1197.jpeg  \n",
            "  inflating: satellite_data/smoke/134.jpeg  \n",
            "  inflating: satellite_data/smoke/141.jpeg  \n",
            "  inflating: satellite_data/smoke/137.jpeg  \n",
            "  inflating: satellite_data/smoke/150.jpeg  \n",
            "  inflating: satellite_data/smoke/1112.jpeg  \n",
            "  inflating: satellite_data/smoke/12.jpeg  \n",
            "  inflating: satellite_data/smoke/122.jpeg  \n",
            "  inflating: satellite_data/smoke/157.jpeg  \n",
            "  inflating: satellite_data/smoke/148.jpeg  \n",
            "  inflating: satellite_data/smoke/164.jpeg  \n",
            "  inflating: satellite_data/smoke/1159.jpeg  \n",
            "  inflating: satellite_data/smoke/1170.jpeg  \n",
            "  inflating: satellite_data/smoke/1193.jpeg  \n",
            "  inflating: satellite_data/smoke/1109.jpeg  \n",
            "  inflating: satellite_data/smoke/131.jpeg  \n",
            "  inflating: satellite_data/smoke/1174.jpeg  \n",
            "  inflating: satellite_data/smoke/115.jpeg  \n",
            "  inflating: satellite_data/smoke/1116.jpeg  \n",
            "  inflating: satellite_data/smoke/1141.jpeg  \n",
            "  inflating: satellite_data/smoke/1101.jpeg  \n",
            "  inflating: satellite_data/smoke/1120.jpeg  \n",
            "  inflating: satellite_data/smoke/1168.jpeg  \n",
            "  inflating: satellite_data/smoke/135.jpeg  \n",
            "  inflating: satellite_data/smoke/1161.jpeg  \n",
            "  inflating: satellite_data/smoke/1113.jpeg  \n",
            "  inflating: satellite_data/smoke/1156.jpeg  \n",
            "  inflating: satellite_data/smoke/1122.jpeg  \n",
            "  inflating: satellite_data/smoke/153.jpeg  \n",
            "  inflating: satellite_data/smoke/1173.jpeg  \n",
            "  inflating: satellite_data/smoke/161.jpeg  \n",
            "  inflating: satellite_data/smoke/1180.jpeg  \n",
            "  inflating: satellite_data/smoke/1171.jpeg  \n",
            "  inflating: satellite_data/smoke/127.jpeg  \n",
            "  inflating: satellite_data/smoke/111.jpeg  \n",
            "  inflating: satellite_data/smoke/120.jpeg  \n",
            "  inflating: satellite_data/smoke/1131.jpeg  \n",
            "  inflating: satellite_data/smoke/1136.jpeg  \n",
            "  inflating: satellite_data/smoke/132.jpeg  \n",
            "  inflating: satellite_data/smoke/1157.jpeg  \n",
            "  inflating: satellite_data/smoke/13.jpeg  \n",
            "  inflating: satellite_data/smoke/1187.jpeg  \n",
            "  inflating: satellite_data/smoke/130.jpeg  \n",
            "  inflating: satellite_data/smoke/1124.jpeg  \n",
            "  inflating: satellite_data/smoke/1125.jpeg  \n",
            "  inflating: satellite_data/smoke/1110.jpeg  \n",
            "  inflating: satellite_data/smoke/1137.jpeg  \n",
            "  inflating: satellite_data/smoke/149.jpeg  \n",
            "  inflating: satellite_data/smoke/15.jpeg  \n",
            "  inflating: satellite_data/smoke/1154.jpeg  \n",
            "  inflating: satellite_data/smoke/1107.jpeg  \n",
            "  inflating: satellite_data/smoke/1165.jpeg  \n",
            "  inflating: satellite_data/smoke/1138.jpeg  \n",
            "  inflating: satellite_data/smoke/1162.jpeg  \n",
            "  inflating: satellite_data/smoke/162.jpeg  \n",
            "  inflating: satellite_data/smoke/124.jpeg  \n",
            "  inflating: satellite_data/smoke/123.jpeg  \n",
            "  inflating: satellite_data/smoke/185.jpeg  \n",
            "  inflating: satellite_data/smoke/197.jpeg  \n",
            "  inflating: satellite_data/smoke/19.jpeg  \n",
            "  inflating: satellite_data/smoke/193.jpeg  \n",
            "  inflating: satellite_data/smoke/194.jpeg  \n",
            "  inflating: satellite_data/smoke/188.jpeg  \n",
            "  inflating: satellite_data/smoke/184.jpeg  \n",
            "  inflating: satellite_data/smoke/173.jpeg  \n",
            "  inflating: satellite_data/smoke/186.jpeg  \n",
            "  inflating: satellite_data/smoke/172.jpeg  \n",
            "  inflating: satellite_data/smoke/170.jpeg  \n",
            "  inflating: satellite_data/smoke/169.jpeg  \n",
            "  inflating: satellite_data/smoke/181.jpeg  \n",
            "  inflating: satellite_data/smoke/174.jpeg  \n",
            "  inflating: satellite_data/smoke/191.jpeg  \n",
            "  inflating: satellite_data/smoke/17.jpeg  \n",
            "  inflating: satellite_data/smoke/180.jpeg  \n",
            "  inflating: satellite_data/smoke/187.jpeg  \n",
            "  inflating: satellite_data/smoke/189.jpeg  \n",
            "  inflating: satellite_data/smoke/178.jpeg  \n",
            "  inflating: satellite_data/smoke/196.jpeg  \n",
            "  inflating: satellite_data/smoke/183.jpeg  \n",
            "  inflating: satellite_data/smoke/177.jpeg  \n",
            "  inflating: satellite_data/smoke/195.jpeg  \n",
            "  inflating: satellite_data/smoke/176.jpeg  \n",
            "  inflating: satellite_data/smoke/182.jpeg  \n",
            "  inflating: satellite_data/smoke/175.jpeg  \n",
            "  inflating: satellite_data/smoke/18.jpeg  \n",
            "  inflating: satellite_data/smoke/1103.jpeg  \n",
            "  inflating: satellite_data/smoke/1130.jpeg  \n",
            "  inflating: satellite_data/smoke/1181.jpeg  \n",
            "  inflating: satellite_data/smoke/167.jpeg  \n",
            "  inflating: satellite_data/smoke/1134.jpeg  \n",
            "  inflating: satellite_data/smoke/1151.jpeg  \n",
            "  inflating: satellite_data/smoke/1163.jpeg  \n",
            "  inflating: satellite_data/smoke/1105.jpeg  \n",
            "  inflating: satellite_data/smoke/171.jpeg  \n",
            "  inflating: satellite_data/smoke/138.jpeg  \n",
            "  inflating: satellite_data/smoke/190.jpeg  \n",
            "  inflating: satellite_data/smoke/1132.jpeg  \n",
            "  inflating: satellite_data/smoke/112.jpeg  \n",
            "  inflating: satellite_data/smoke/1199.jpeg  \n",
            "  inflating: satellite_data/smoke/1150.jpeg  \n",
            "  inflating: satellite_data/smoke/125.jpeg  \n",
            "  inflating: satellite_data/smoke/192.jpeg  \n",
            "  inflating: satellite_data/smoke/199.jpeg  \n",
            "  inflating: satellite_data/smoke/1179.jpeg  \n",
            "  inflating: satellite_data/smoke/163.jpeg  \n",
            "  inflating: satellite_data/smoke/110.jpeg  \n",
            "  inflating: satellite_data/smoke/1169.jpeg  \n",
            "  inflating: satellite_data/smoke/147.jpeg  \n",
            "  inflating: satellite_data/smoke/1166.jpeg  \n",
            "  inflating: satellite_data/smoke/1111.jpeg  \n",
            "  inflating: satellite_data/smoke/1153.jpeg  \n",
            "  inflating: satellite_data/smoke/1114.jpeg  \n",
            "  inflating: satellite_data/smoke/1172.jpeg  \n",
            "  inflating: satellite_data/smoke/1202.jpeg  \n",
            "  inflating: satellite_data/smoke/1129.jpeg  \n",
            "  inflating: satellite_data/smoke/1176.jpeg  \n",
            "  inflating: satellite_data/smoke/158.jpeg  \n",
            "  inflating: satellite_data/smoke/1164.jpeg  \n",
            "  inflating: satellite_data/smoke/1133.jpeg  \n",
            "  inflating: satellite_data/smoke/1115.jpeg  \n",
            "  inflating: satellite_data/smoke/118.jpeg  \n",
            "  inflating: satellite_data/smoke/114.jpeg  \n",
            "  inflating: satellite_data/smoke/166.jpeg  \n",
            "  inflating: satellite_data/smoke/198.jpeg  \n",
            "  inflating: satellite_data/smoke/179.jpeg  \n"
          ]
        }
      ]
    },
    {
      "cell_type": "code",
      "source": [
        "!ls"
      ],
      "metadata": {
        "colab": {
          "base_uri": "https://localhost:8080/"
        },
        "id": "rjYWv8QX65LJ",
        "outputId": "4a806efd-f6db-4aec-91cb-f9b8c0badd60"
      },
      "execution_count": null,
      "outputs": [
        {
          "output_type": "stream",
          "name": "stdout",
          "text": [
            "lab4-CNN.ipynb\tsatellite_data\tsatellite_data.zip\n"
          ]
        }
      ]
    },
    {
      "cell_type": "code",
      "source": [
        "!pip install split_folders #separate the folders for testing and validation dataset"
      ],
      "metadata": {
        "colab": {
          "base_uri": "https://localhost:8080/"
        },
        "id": "aVKipdSS7ioa",
        "outputId": "24032bc3-5dc5-47ff-e10b-5851f25766a4"
      },
      "execution_count": null,
      "outputs": [
        {
          "output_type": "stream",
          "name": "stdout",
          "text": [
            "Collecting split_folders\n",
            "  Downloading split_folders-0.5.1-py3-none-any.whl (8.4 kB)\n",
            "Installing collected packages: split-folders\n",
            "Successfully installed split-folders-0.5.1\n"
          ]
        }
      ]
    },
    {
      "cell_type": "code",
      "source": [
        "import splitfolders\n",
        "splitfolders.ratio('satellite_data','split_data',seed=1111,ratio=(0.8,0.1,0.1)) \n",
        "#0.8=80% testing, 0.1=10% training, 0.1=10% validation\n",
        "#sum of ratios =1"
      ],
      "metadata": {
        "colab": {
          "base_uri": "https://localhost:8080/"
        },
        "id": "bXP5JZhq8sGT",
        "outputId": "a96f7d0e-2ff3-442e-b1b8-f25b4f67a6d2"
      },
      "execution_count": null,
      "outputs": [
        {
          "output_type": "stream",
          "name": "stderr",
          "text": [
            "Copying files: 406 files [00:12, 31.55 files/s]\n"
          ]
        }
      ]
    },
    {
      "cell_type": "code",
      "source": [
        "#read the data and preprocess it\n",
        "from tensorflow import keras\n",
        "datagen = keras.preprocessing.image.ImageDataGenerator(rescale=1/255.0) \n",
        "#image classification, image preprocessing, normalising the image\n"
      ],
      "metadata": {
        "id": "KBRNKAnI9nto"
      },
      "execution_count": null,
      "outputs": []
    },
    {
      "cell_type": "code",
      "source": [
        "train_data = datagen.flow_from_directory('split_data/train',target_size=(224,224),batch_size=8, class_mode='categorical',shuffle=True)\n",
        "#cannot read all data in onces as the ram is less so data is provided in batches from the storage \n",
        "valid_data = datagen.flow_from_directory('split_data/val',target_size=(224,224),batch_size=8, class_mode='categorical',shuffle=True)\n",
        "test_data = datagen.flow_from_directory('split_data/test',target_size=(224,224),batch_size=8, class_mode='categorical',shuffle=False)"
      ],
      "metadata": {
        "colab": {
          "base_uri": "https://localhost:8080/"
        },
        "id": "uOx-BMkz_HYm",
        "outputId": "6babeb34-1768-4c2d-f217-2c9420d4ec89"
      },
      "execution_count": null,
      "outputs": [
        {
          "output_type": "stream",
          "name": "stdout",
          "text": [
            "Found 324 images belonging to 2 classes.\n",
            "Found 40 images belonging to 2 classes.\n",
            "Found 42 images belonging to 2 classes.\n"
          ]
        }
      ]
    },
    {
      "cell_type": "code",
      "source": [
        "cnn_model = keras.models.Sequential()\n",
        "\n",
        "cnn_model.add(keras.layers.Input(shape=(224,224,3)))\n",
        "cnn_model.add(keras.layers.Conv2D(8,(3,3),activation='relu',kernel_initializer='random_normal'))\n",
        "cnn_model.add(keras.layers.Conv2D(16,(3,3),activation='relu',kernel_initializer='random_normal'))\n",
        "cnn_model.add(keras.layers.MaxPool2D((2,2)))\n",
        "\n",
        "cnn_model.add(keras.layers.Flatten())\n",
        "cnn_model.add(keras.layers.Dense(16, activation='relu'))\n",
        "cnn_model.add(keras.layers.Dense(2,activation='softmax'))\n",
        "cnn_model.summary()\n"
      ],
      "metadata": {
        "colab": {
          "base_uri": "https://localhost:8080/"
        },
        "id": "xKq9ks9tAWAm",
        "outputId": "d29bf0fa-708d-4b5a-aca0-f4f503af6537"
      },
      "execution_count": null,
      "outputs": [
        {
          "output_type": "stream",
          "name": "stdout",
          "text": [
            "Model: \"sequential\"\n",
            "_________________________________________________________________\n",
            " Layer (type)                Output Shape              Param #   \n",
            "=================================================================\n",
            " conv2d (Conv2D)             (None, 222, 222, 8)       224       \n",
            "                                                                 \n",
            " conv2d_1 (Conv2D)           (None, 220, 220, 16)      1168      \n",
            "                                                                 \n",
            " max_pooling2d (MaxPooling2D  (None, 110, 110, 16)     0         \n",
            " )                                                               \n",
            "                                                                 \n",
            " flatten (Flatten)           (None, 193600)            0         \n",
            "                                                                 \n",
            " dense (Dense)               (None, 16)                3097616   \n",
            "                                                                 \n",
            " dense_1 (Dense)             (None, 2)                 34        \n",
            "                                                                 \n",
            "=================================================================\n",
            "Total params: 3,099,042\n",
            "Trainable params: 3,099,042\n",
            "Non-trainable params: 0\n",
            "_________________________________________________________________\n"
          ]
        }
      ]
    },
    {
      "cell_type": "code",
      "source": [
        "#How the output volume is calculated and output shape\n",
        "#(image_size-filter_size_2*padding)/stride+1)+2*padding\n",
        "#3x3x3=27 one filter\n",
        "#single filter will have 1 bias\n",
        "#we have such 8 filter\n",
        "#no. of trainable parameters=3x3x3x8+8\n",
        "#conside the filter depth as 8 to calculate the parameters of 2nd layer\n",
        "#no. of trainable parameters in 2nd layer=3x3x3x8+16\n"
      ],
      "metadata": {
        "id": "EsdxhwBdD7bj"
      },
      "execution_count": null,
      "outputs": []
    },
    {
      "cell_type": "code",
      "source": [
        "#model training \n",
        "#compile the model with loss function and matrix we wish to calculate\n",
        "optim = keras.optimizers.Adam(learning_rate=0.001)\n",
        "cnn_model.compile(optimizer=optim, loss='categorical_crossentropy',metrics=['accuracy'])\n",
        "#sparse_crossentropy loss taken 0 or 1 labels are in numbers\n",
        "#if data is in onehotencoder then use categorical cross entropy loss"
      ],
      "metadata": {
        "id": "CyDvEbPSI_gH"
      },
      "execution_count": null,
      "outputs": []
    },
    {
      "cell_type": "code",
      "source": [
        "import matplotlib.pyplot.plt\n",
        "acc = history.history['accuracy']\n",
        "val_acc=history.history['val_accuracy']\n",
        "\n",
        "loss=history.history['loss']\n",
        "val_loss=history.history['val_loss']\n",
        "epochs = range(1,len(acc)+1)\n",
        "plt.plot(epochs, val_acc, label='validation accuracy')\n",
        "plt.legend()\n",
        "plt.xlabel('epochs')\n",
        "plt.ylabel('accuracy')\n",
        "plt.title('Training validation Accuracy')\n",
        "plt.show()\n",
        "\n",
        "plt.plot(epochs, loss, label='training loss')\n",
        "plt.legend()\n",
        "plt.xlabel('epochs')\n",
        "plt.ylabel('loss')\n",
        "plt.title('Training validation Loss')\n",
        "plt.show()"
      ],
      "metadata": {
        "id": "peYmWHtFL8cM"
      },
      "execution_count": null,
      "outputs": []
    },
    {
      "cell_type": "code",
      "source": [
        "history=cnn_model.fit(train_data,validation_data=valid_data,batch_size=8,epochs=5)\n"
      ],
      "metadata": {
        "colab": {
          "base_uri": "https://localhost:8080/"
        },
        "id": "NXwg3HfzJ3QG",
        "outputId": "6b6b4c4b-334c-40f4-f2cc-2c1f38152561"
      },
      "execution_count": null,
      "outputs": [
        {
          "output_type": "stream",
          "name": "stdout",
          "text": [
            "Epoch 1/5\n",
            "41/41 [==============================] - 48s 946ms/step - loss: 0.6270 - accuracy: 0.5123 - val_loss: 0.5205 - val_accuracy: 0.6750\n",
            "Epoch 2/5\n",
            "41/41 [==============================] - 36s 876ms/step - loss: 0.4753 - accuracy: 0.8333 - val_loss: 0.5792 - val_accuracy: 0.5750\n",
            "Epoch 3/5\n",
            "41/41 [==============================] - 35s 856ms/step - loss: 0.4658 - accuracy: 0.8580 - val_loss: 0.4736 - val_accuracy: 0.9250\n",
            "Epoch 4/5\n",
            "41/41 [==============================] - 37s 901ms/step - loss: 0.3562 - accuracy: 0.9599 - val_loss: 0.3818 - val_accuracy: 0.9750\n",
            "Epoch 5/5\n",
            "41/41 [==============================] - 34s 826ms/step - loss: 0.3188 - accuracy: 0.9907 - val_loss: 0.3223 - val_accuracy: 1.0000\n"
          ]
        }
      ]
    },
    {
      "cell_type": "code",
      "source": [
        "history.history"
      ],
      "metadata": {
        "colab": {
          "base_uri": "https://localhost:8080/"
        },
        "id": "gDUGHsQqNZoP",
        "outputId": "554085a8-f8a5-41d6-96e9-d824c79344c9"
      },
      "execution_count": null,
      "outputs": [
        {
          "output_type": "execute_result",
          "data": {
            "text/plain": [
              "{'accuracy': [0.5123456716537476,\n",
              "  0.8333333134651184,\n",
              "  0.8580247163772583,\n",
              "  0.959876537322998,\n",
              "  0.9907407164573669],\n",
              " 'loss': [0.6270132660865784,\n",
              "  0.47532814741134644,\n",
              "  0.4658307731151581,\n",
              "  0.3561609089374542,\n",
              "  0.3187848925590515],\n",
              " 'val_accuracy': [0.675000011920929,\n",
              "  0.574999988079071,\n",
              "  0.925000011920929,\n",
              "  0.9750000238418579,\n",
              "  1.0],\n",
              " 'val_loss': [0.5204946398735046,\n",
              "  0.5792230367660522,\n",
              "  0.47364139556884766,\n",
              "  0.38181766867637634,\n",
              "  0.3223018944263458]}"
            ]
          },
          "metadata": {},
          "execution_count": 25
        }
      ]
    },
    {
      "cell_type": "code",
      "source": [
        "import matplotlib.pyplot as plt\n",
        "acc = history.history['accuracy']\n",
        "val_acc=history.history['val_accuracy']\n",
        "\n",
        "loss=history.history['loss']\n",
        "val_loss=history.history['val_loss']\n",
        "epochs = range(1,len(acc)+1)\n",
        "plt.plot(epochs, acc, label='Training accuracy')\n",
        "plt.plot(epochs, val_acc, label='validation accuracy')\n",
        "plt.legend()\n",
        "plt.xlabel('epochs')\n",
        "plt.ylabel('accuracy')\n",
        "plt.title('Training validation Accuracy')\n",
        "plt.show()\n",
        "\n",
        "plt.plot(epochs, loss, label='training loss')\n",
        "plt.plot(epochs, val_loss, label='validation loss')\n",
        "plt.legend()\n",
        "plt.xlabel('epochs')\n",
        "plt.ylabel('loss')\n",
        "plt.title('Training validation Loss')\n",
        "plt.show()"
      ],
      "metadata": {
        "colab": {
          "base_uri": "https://localhost:8080/",
          "height": 573
        },
        "id": "1qPCQQ95NXKP",
        "outputId": "58d8887a-6eb4-4d24-8e33-0f3e6596c84c"
      },
      "execution_count": null,
      "outputs": [
        {
          "output_type": "display_data",
          "data": {
            "image/png": "[encoded data removed]",
            "text/plain": [
              "<Figure size 432x288 with 1 Axes>"
            ]
          },
          "metadata": {
            "needs_background": "light"
          }
        },
        {
          "output_type": "display_data",
          "data": {
            "image/png": "[encoded data removed]",
            "text/plain": [
              "<Figure size 432x288 with 1 Axes>"
            ]
          },
          "metadata": {
            "needs_background": "light"
          }
        }
      ]
    },
    {
      "cell_type": "code",
      "source": [
        "import cv2\n",
        "img = cv2.imread('/content/drive/MyDrive/Colab Notebooks/ML4CV lab4/split_data/test/smoke/1118.jpeg')\n",
        "img = cv2.cvtColor(img,cv2.COLOR_BGR2RGB)\n",
        "img = cv2.resize(img, (224,224))\n",
        "img = img/255.0\n",
        "plt.imshow(img)"
      ],
      "metadata": {
        "colab": {
          "base_uri": "https://localhost:8080/",
          "height": 286
        },
        "id": "W4geE-UpPKTe",
        "outputId": "f0260c4f-88b2-463c-dd24-c38ff1d0498d"
      },
      "execution_count": null,
      "outputs": [
        {
          "output_type": "execute_result",
          "data": {
            "text/plain": [
              "<matplotlib.image.AxesImage at 0x7fcc24254090>"
            ]
          },
          "metadata": {},
          "execution_count": 32
        },
        {
          "output_type": "display_data",
          "data": {
            "image/png": "[encoded data removed]",
            "text/plain": [
              "<Figure size 432x288 with 1 Axes>"
            ]
          },
          "metadata": {
            "needs_background": "light"
          }
        }
      ]
    },
    {
      "cell_type": "code",
      "source": [
        "img.shape"
      ],
      "metadata": {
        "colab": {
          "base_uri": "https://localhost:8080/"
        },
        "id": "gmA2-aKYP7qk",
        "outputId": "ace542da-36c0-4a59-e9d9-2fbc4fca71e1"
      },
      "execution_count": null,
      "outputs": [
        {
          "output_type": "execute_result",
          "data": {
            "text/plain": [
              "(224, 224, 3)"
            ]
          },
          "metadata": {},
          "execution_count": 33
        }
      ]
    },
    {
      "cell_type": "code",
      "source": [
        "input_img = img.reshape(1,224,224,3)\n",
        "input_img.shape"
      ],
      "metadata": {
        "colab": {
          "base_uri": "https://localhost:8080/"
        },
        "id": "7nNM9yvhP9-L",
        "outputId": "1e00b12f-5a0a-499f-ae70-e3bb4775b2f8"
      },
      "execution_count": null,
      "outputs": [
        {
          "output_type": "execute_result",
          "data": {
            "text/plain": [
              "(1, 224, 224, 3)"
            ]
          },
          "metadata": {},
          "execution_count": 34
        }
      ]
    },
    {
      "cell_type": "code",
      "source": [
        "output = cnn_model.predict(input_img)"
      ],
      "metadata": {
        "id": "eUxR35sTQIpr"
      },
      "execution_count": null,
      "outputs": []
    },
    {
      "cell_type": "code",
      "source": [
        "output"
      ],
      "metadata": {
        "colab": {
          "base_uri": "https://localhost:8080/"
        },
        "id": "zNTS2vjAQaLG",
        "outputId": "18168cca-86ab-4039-a723-a4710238c7d5"
      },
      "execution_count": null,
      "outputs": [
        {
          "output_type": "execute_result",
          "data": {
            "text/plain": [
              "array([[0.4267168, 0.5732832]], dtype=float32)"
            ]
          },
          "metadata": {},
          "execution_count": 37
        }
      ]
    },
    {
      "cell_type": "code",
      "source": [
        "import numpy as np\n",
        "out = np.argmax(output)\n",
        "out"
      ],
      "metadata": {
        "colab": {
          "base_uri": "https://localhost:8080/"
        },
        "id": "4phMhWJdQdI4",
        "outputId": "2039a56e-e83c-4792-9cc4-1317ae756f6a"
      },
      "execution_count": null,
      "outputs": [
        {
          "output_type": "execute_result",
          "data": {
            "text/plain": [
              "1"
            ]
          },
          "metadata": {},
          "execution_count": 38
        }
      ]
    },
    {
      "cell_type": "code",
      "source": [
        "#1 means smoke\n",
        "#0 means non smoke"
      ],
      "metadata": {
        "id": "r4aAZZ1sQonC"
      },
      "execution_count": null,
      "outputs": []
    },
    {
      "cell_type": "code",
      "source": [
        "print(test_data.class_indices)"
      ],
      "metadata": {
        "colab": {
          "base_uri": "https://localhost:8080/"
        },
        "id": "8H5mP3fnQyPg",
        "outputId": "d0cb89aa-53d6-45ec-a38a-7477599ccc85"
      },
      "execution_count": null,
      "outputs": [
        {
          "output_type": "stream",
          "name": "stdout",
          "text": [
            "{'non-smoke': 0, 'smoke': 1}\n"
          ]
        }
      ]
    },
    {
      "cell_type": "code",
      "source": [
        "cnn_model.save('model.h5')"
      ],
      "metadata": {
        "id": "zNylOP7IQ5Vj"
      },
      "execution_count": null,
      "outputs": []
    },
    {
      "cell_type": "code",
      "source": [
        "new_model = keras.model.load_model('model.h5')"
      ],
      "metadata": {
        "colab": {
          "base_uri": "https://localhost:8080/",
          "height": 165
        },
        "id": "3vlixLESRRW_",
        "outputId": "701d85da-2db3-4b35-d42c-2080f527dbb8"
      },
      "execution_count": null,
      "outputs": [
        {
          "output_type": "error",
          "ename": "AttributeError",
          "evalue": "ignored",
          "traceback": [
            "\u001b[0;31m---------------------------------------------------------------------------\u001b[0m",
            "\u001b[0;31mAttributeError\u001b[0m                            Traceback (most recent call last)",
            "\u001b[0;32m<ipython-input-43-49f451c1ef20>\u001b[0m in \u001b[0;36m<module>\u001b[0;34m()\u001b[0m\n\u001b[0;32m----> 1\u001b[0;31m \u001b[0mnew_model\u001b[0m \u001b[0;34m=\u001b[0m \u001b[0mkeras\u001b[0m\u001b[0;34m.\u001b[0m\u001b[0mmodel\u001b[0m\u001b[0;34m.\u001b[0m\u001b[0mload_model\u001b[0m\u001b[0;34m(\u001b[0m\u001b[0;34m'model.h5'\u001b[0m\u001b[0;34m)\u001b[0m\u001b[0;34m\u001b[0m\u001b[0;34m\u001b[0m\u001b[0m\n\u001b[0m",
            "\u001b[0;31mAttributeError\u001b[0m: module 'keras.api._v2.keras' has no attribute 'model'"
          ]
        }
      ]
    },
    {
      "cell_type": "code",
      "source": [
        "new_model.evaluate(test_data)"
      ],
      "metadata": {
        "colab": {
          "base_uri": "https://localhost:8080/",
          "height": 165
        },
        "id": "Eg0leF3kRitl",
        "outputId": "ed49543d-e300-457e-bdef-933988e994da"
      },
      "execution_count": null,
      "outputs": [
        {
          "output_type": "error",
          "ename": "NameError",
          "evalue": "ignored",
          "traceback": [
            "\u001b[0;31m---------------------------------------------------------------------------\u001b[0m",
            "\u001b[0;31mNameError\u001b[0m                                 Traceback (most recent call last)",
            "\u001b[0;32m<ipython-input-44-9a5cc8141bec>\u001b[0m in \u001b[0;36m<module>\u001b[0;34m()\u001b[0m\n\u001b[0;32m----> 1\u001b[0;31m \u001b[0mnew_model\u001b[0m\u001b[0;34m.\u001b[0m\u001b[0mevaluate\u001b[0m\u001b[0;34m(\u001b[0m\u001b[0mtest_data\u001b[0m\u001b[0;34m)\u001b[0m\u001b[0;34m\u001b[0m\u001b[0;34m\u001b[0m\u001b[0m\n\u001b[0m",
            "\u001b[0;31mNameError\u001b[0m: name 'new_model' is not defined"
          ]
        }
      ]
    },
    {
      "cell_type": "code",
      "source": [
        ""
      ],
      "metadata": {
        "id": "8Ju0OAX0R20H"
      },
      "execution_count": null,
      "outputs": []
    }
  ]
}